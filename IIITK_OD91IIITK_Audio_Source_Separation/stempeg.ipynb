{
  "nbformat": 4,
  "nbformat_minor": 0,
  "metadata": {
    "colab": {
      "name": "stempeg.ipynb",
      "provenance": [],
      "collapsed_sections": []
    },
    "kernelspec": {
      "name": "python3",
      "display_name": "Python 3"
    },
    "language_info": {
      "name": "python"
    },
    "accelerator": "TPU"
  },
  "cells": [
    {
      "cell_type": "markdown",
      "metadata": {
        "id": "07u_S5GVkgsr"
      },
      "source": [
        "# Preprocessing the MUSDB Dataset\n",
        "\n",
        "### stempeg - the library used to extract the stem files.\n",
        "\n",
        "We used the library to extract 10 files each, running the notebook mutiple times. We have about 150 stem files in total.(test + train)."
      ]
    },
    {
      "cell_type": "code",
      "metadata": {
        "colab": {
          "base_uri": "https://localhost:8080/"
        },
        "id": "81tzG5mCPzXc",
        "outputId": "60fa17e8-2ad5-41de-dea2-ab548257ce04"
      },
      "source": [
        "!pip install stempeg"
      ],
      "execution_count": null,
      "outputs": [
        {
          "output_type": "stream",
          "text": [
            "Collecting stempeg\n",
            "  Downloading stempeg-0.2.3-py3-none-any.whl (963 kB)\n",
            "\u001b[K     |████████████████████████████████| 963 kB 5.2 MB/s \n",
            "\u001b[?25hRequirement already satisfied: numpy>=1.6 in /usr/local/lib/python3.7/dist-packages (from stempeg) (1.19.5)\n",
            "Collecting ffmpeg-python>=0.2.0\n",
            "  Downloading ffmpeg_python-0.2.0-py3-none-any.whl (25 kB)\n",
            "Requirement already satisfied: future in /usr/local/lib/python3.7/dist-packages (from ffmpeg-python>=0.2.0->stempeg) (0.16.0)\n",
            "Installing collected packages: ffmpeg-python, stempeg\n",
            "Successfully installed ffmpeg-python-0.2.0 stempeg-0.2.3\n"
          ],
          "name": "stdout"
        }
      ]
    },
    {
      "cell_type": "code",
      "metadata": {
        "colab": {
          "base_uri": "https://localhost:8080/"
        },
        "id": "cu-Pb5unHgoe",
        "outputId": "7c1ba59a-1837-48c8-e129-02196aebf911"
      },
      "source": [
        "from google.colab import drive\n",
        "drive.mount('/content/gdrive')"
      ],
      "execution_count": null,
      "outputs": [
        {
          "output_type": "stream",
          "text": [
            "Mounted at /content/gdrive\n"
          ],
          "name": "stdout"
        }
      ]
    },
    {
      "cell_type": "code",
      "metadata": {
        "id": "tsnwiIUgP_lg"
      },
      "source": [
        "# S, rate = stempeg.read_stems(stempeg.example_stem_path())"
      ],
      "execution_count": null,
      "outputs": []
    },
    {
      "cell_type": "code",
      "metadata": {
        "id": "-wq2w8LEILw4"
      },
      "source": [
        "import os\n",
        "path = \"/content/gdrive/MyDrive/data/musdb18/train\"\n",
        "dir_list = os.listdir(path)\n",
        "\n",
        "l = dir_list"
      ],
      "execution_count": null,
      "outputs": []
    },
    {
      "cell_type": "code",
      "metadata": {
        "id": "Kh9e24NQlCf7"
      },
      "source": [
        "# print(l[79])"
      ],
      "execution_count": null,
      "outputs": []
    },
    {
      "cell_type": "code",
      "metadata": {
        "id": "9S4IBdrsknxl"
      },
      "source": [
        "# import stempeg\n",
        "# import os\n",
        "# path = \"/content/gdrive/MyDrive/data/musdb18/train\"\n",
        "# dir_list = os.listdir(path)\n",
        "\n",
        "# l = dir_list\n",
        "\n",
        "# less = l[9:11]\n",
        "# for i in less:\n",
        "#   final = path+\"/\"+i\n",
        "#   rateS, rate = stempeg.read_stems(final)\n",
        "#   stems = {\n",
        "#         \"mix\": rateS[0],\n",
        "#         \"drums\": rateS[1],\n",
        "#         \"bass\": rateS[2],\n",
        "#         \"other\": rateS[3],\n",
        "#         \"vocals\": rateS[4],\n",
        "#     }\n",
        "#   stempeg.write_stems((\"/content/gdrive/MyDrive/data/musdb18_train/\"+i, \".mp3\"),stems,sample_rate=rate,writer=stempeg.FilesWriter(multiprocess=True,output_sample_rate=48000,stem_names=[\"mix\", \"drums\", \"bass\", \"other\", \"vocals\"]))\n"
      ],
      "execution_count": null,
      "outputs": []
    },
    {
      "cell_type": "code",
      "metadata": {
        "id": "YxaKZPwPMOJu"
      },
      "source": [
        "# import stempeg\n",
        "# import os\n",
        "# path = \"/content/gdrive/MyDrive/data/musdb18/train\"\n",
        "# dir_list = os.listdir(path)\n",
        "\n",
        "# l = dir_list\n",
        "\n",
        "# less = l[90:100]\n",
        "# for i in less:\n",
        "#   final = path+\"/\"+i\n",
        "#   rateS, rate = stempeg.read_stems(final)\n",
        "#   stems = {\n",
        "#         \"mix\": rateS[0],\n",
        "#         \"drums\": rateS[1],\n",
        "#         \"bass\": rateS[2],\n",
        "#         \"other\": rateS[3],\n",
        "#         \"vocals\": rateS[4],\n",
        "#     }\n",
        "#   stempeg.write_stems((\"/content/gdrive/MyDrive/data/musdb18_train/\"+i, \".mp3\"),stems,sample_rate=rate,writer=stempeg.FilesWriter(multiprocess=True,output_sample_rate=48000,stem_names=[\"mix\", \"drums\", \"bass\", \"other\", \"vocals\"]))\n"
      ],
      "execution_count": null,
      "outputs": []
    },
    {
      "cell_type": "code",
      "metadata": {
        "colab": {
          "base_uri": "https://localhost:8080/"
        },
        "id": "RSv1oynPYGem",
        "outputId": "c470c2c1-1e31-4d86-ade3-836d46d29d3f"
      },
      "source": [
        "p = \"/content/gdrive/MyDrive/data/musdb18_train/\"\n",
        "d = os.listdir(p)\n",
        "len(d)"
      ],
      "execution_count": null,
      "outputs": [
        {
          "output_type": "execute_result",
          "data": {
            "text/plain": [
              "100"
            ]
          },
          "metadata": {},
          "execution_count": 5
        }
      ]
    },
    {
      "cell_type": "code",
      "metadata": {
        "id": "yvmzICJwp52_"
      },
      "source": [
        "import os\n",
        "path = \"/content/gdrive/MyDrive/data/musdb18/test\"\n",
        "dir_list = os.listdir(path)\n",
        "\n",
        "l = dir_list\n",
        "l"
      ],
      "execution_count": null,
      "outputs": []
    },
    {
      "cell_type": "code",
      "metadata": {
        "id": "LqNjvroAsJXn"
      },
      "source": [
        "import stempeg\n",
        "import os\n",
        "path = \"/content/gdrive/MyDrive/data/musdb18/test\"\n",
        "dir_list = os.listdir(path)\n",
        "\n",
        "l = dir_list\n",
        "\n",
        "less = l[11:13]\n",
        "for i in less:\n",
        "  final = path+\"/\"+i\n",
        "  rateS, rate = stempeg.read_stems(final)\n",
        "  stems = {\n",
        "        \"mix\": rateS[0],\n",
        "        \"drums\": rateS[1],\n",
        "        \"bass\": rateS[2],\n",
        "        \"other\": rateS[3],\n",
        "        \"vocals\": rateS[4],\n",
        "    }\n",
        "  stempeg.write_stems((\"/content/gdrive/MyDrive/data/musdb18_test/\"+i, \".mp3\"),stems,sample_rate=rate,writer=stempeg.FilesWriter(multiprocess=True,output_sample_rate=48000,stem_names=[\"mix\", \"drums\", \"bass\", \"other\", \"vocals\"]))\n"
      ],
      "execution_count": null,
      "outputs": []
    },
    {
      "cell_type": "code",
      "metadata": {
        "id": "29yHwHGJN3eE"
      },
      "source": [
        "import stempeg\n",
        "import os\n",
        "path = \"/content/gdrive/MyDrive/data/musdb18/test\"\n",
        "dir_list = os.listdir(path)\n",
        "\n",
        "l = dir_list\n",
        "\n",
        "less = l[40:50]\n",
        "for i in less:\n",
        "  final = path+\"/\"+i\n",
        "  rateS, rate = stempeg.read_stems(final)\n",
        "  stems = {\n",
        "        \"mix\": rateS[0],\n",
        "        \"drums\": rateS[1],\n",
        "        \"bass\": rateS[2],\n",
        "        \"other\": rateS[3],\n",
        "        \"vocals\": rateS[4],\n",
        "    }\n",
        "  stempeg.write_stems((\"/content/gdrive/MyDrive/data/musdb18_test/\"+i, \".mp3\"),stems,sample_rate=rate,writer=stempeg.FilesWriter(multiprocess=True,output_sample_rate=48000,stem_names=[\"mix\", \"drums\", \"bass\", \"other\", \"vocals\"]))\n"
      ],
      "execution_count": null,
      "outputs": []
    },
    {
      "cell_type": "code",
      "metadata": {
        "id": "npp6O6B7qQ52",
        "colab": {
          "base_uri": "https://localhost:8080/"
        },
        "outputId": "61bfce20-e47d-4e6d-aa77-134bb0060732"
      },
      "source": [
        "p = \"/content/gdrive/MyDrive/data/musdb18_test/\"\n",
        "d = os.listdir(p)\n",
        "len(d)"
      ],
      "execution_count": null,
      "outputs": [
        {
          "output_type": "execute_result",
          "data": {
            "text/plain": [
              "50"
            ]
          },
          "metadata": {},
          "execution_count": 2
        }
      ]
    },
    {
      "cell_type": "code",
      "metadata": {
        "id": "8bN2iyOXm7CD"
      },
      "source": [
        ""
      ],
      "execution_count": null,
      "outputs": []
    },
    {
      "cell_type": "code",
      "metadata": {
        "id": "C5BjG0Uur-2x"
      },
      "source": [
        ""
      ],
      "execution_count": null,
      "outputs": []
    }
  ]
}