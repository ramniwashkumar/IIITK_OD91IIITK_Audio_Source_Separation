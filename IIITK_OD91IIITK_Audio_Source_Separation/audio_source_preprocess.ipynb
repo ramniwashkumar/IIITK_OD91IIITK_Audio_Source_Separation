{
 "cells": [
  {
   "cell_type": "code",
   "execution_count": null,
   "metadata": {
    "id": "k8nTvsY6-QjG"
   },
   "outputs": [],
   "source": [
    "import numpy as np\n",
    "import pandas as pd\n",
    "import matplotlib.pyplot as plt"
   ]
  },
  {
   "cell_type": "code",
   "execution_count": null,
   "metadata": {
    "colab": {
     "base_uri": "https://localhost:8080/"
    },
    "id": "NcFCNinvJlMN",
    "outputId": "a646a9a6-24d6-416d-b550-48bbcf0c4e78"
   },
   "outputs": [
    {
     "name": "stdout",
     "output_type": "stream",
     "text": [
      "Drive already mounted at /content/gdrive; to attempt to forcibly remount, call drive.mount(\"/content/gdrive\", force_remount=True).\n"
     ]
    }
   ],
   "source": [
    "from google.colab import drive\n",
    "drive.mount(\"/content/gdrive\")"
   ]
  },
  {
   "cell_type": "code",
   "execution_count": null,
   "metadata": {
    "colab": {
     "base_uri": "https://localhost:8080/"
    },
    "id": "pQ0H7t3oJ1w6",
    "outputId": "bef649e3-2f0b-4594-b1db-4a7e77af504f"
   },
   "outputs": [
    {
     "data": {
      "text/plain": [
       "['.config', 'gdrive', '.ipynb_checkpoints', 'sample_data']"
      ]
     },
     "execution_count": 3,
     "metadata": {},
     "output_type": "execute_result"
    }
   ],
   "source": [
    "import os\n",
    "os.listdir()"
   ]
  },
  {
   "cell_type": "code",
   "execution_count": 1,
   "metadata": {
    "colab": {
     "base_uri": "https://localhost:8080/"
    },
    "id": "GdN2zZSEKVDJ",
    "outputId": "5a97b244-e7b3-4c57-8cb6-aeb7a723b2e4"
   },
   "outputs": [
    {
     "name": "stdout",
     "output_type": "stream",
     "text": [
      "Collecting pydub\n",
      "  Downloading pydub-0.25.1-py2.py3-none-any.whl (32 kB)\n",
      "Installing collected packages: pydub\n",
      "Successfully installed pydub-0.25.1\n"
     ]
    }
   ],
   "source": [
    "!pip install pydub"
   ]
  },
  {
   "cell_type": "code",
   "execution_count": null,
   "metadata": {
    "id": "dcdQ5HcuKXqH"
   },
   "outputs": [],
   "source": [
    "train_path = \"/content/gdrive/MyDrive/data/musdb18_train/\"\n",
    "test_path = \"/content/gdrive/MyDrive/data/musdb18_test/\"\n",
    "\n",
    "import os\n",
    "\n",
    "train_dir= os.listdir(train_path)\n",
    "test_dir= os.listdir(test_path)"
   ]
  },
  {
   "cell_type": "code",
   "execution_count": null,
   "metadata": {
    "id": "IxoINWUdOVm6"
   },
   "outputs": [],
   "source": [
    "mix_path = \"/mix.mp3\"\n",
    "vocal_path = \"/vocal.mp3\"\n",
    "\n",
    "categories = [\"bass\",\"drums\",\"mix\",\"other\",\"vocals\"]\n",
    "\n",
    "for i in test_dir:\n",
    "    for j in categories:\n",
    "    mp3_path = test_path+i+\"/\"+j+\".mp3\"\n",
    "    # wav_path = train_path+\"/\"+i+\"/\"+j+\".wav\"\n",
    "    os.remove(mp3_path)\n",
    "    # # convert mp3 file to wav file\n",
    "    # sound = AudioSegment.from_mp3(mp3_path)\n",
    "    # sound.export(wav_path, format=\"wav\")"
   ]
  },
  {
   "cell_type": "code",
   "execution_count": null,
   "metadata": {
    "colab": {
     "base_uri": "https://localhost:8080/",
     "height": 296
    },
    "id": "wC_68Oo5Psbi",
    "outputId": "719cba92-5d09-4988-e913-f0786c1458b3"
   },
   "outputs": [
    {
     "data": {
      "text/plain": [
       "171.24721088435373"
      ]
     },
     "execution_count": 10,
     "metadata": {},
     "output_type": "execute_result"
    },
    {
     "data": {
      "image/png": "[encoded data removed]",
      "text/plain": [
       "<Figure size 432x288 with 1 Axes>"
      ]
     },
     "metadata": {
      "needs_background": "light"
     },
     "output_type": "display_data"
    }
   ],
   "source": [
    "import librosa\n",
    "import librosa.display as dsp\n",
    "# from IPython.display import Audio\n",
    "filename=\"/content/gdrive/MyDrive/data/musdb18_train/A Classic Education - NightOwl.stem.mp4/mix.wav\"\n",
    "# plt.figure(figsize=(14,5))\n",
    "data,sr=librosa.load(filename,offset=16,duration=8)\n",
    "dsp.waveshow(data,sr=sr)\n",
    "# plt.show()\n",
    "# Audio(filename)\n",
    "data,sr=librosa.load(filename)\n",
    "librosa.get_duration(data)"
   ]
  },
  {
   "cell_type": "code",
   "execution_count": null,
   "metadata": {
    "id": "dxe-Lv0HQs17"
   },
   "outputs": [],
   "source": [
    "train_path = \"/content/gdrive/MyDrive/data/musdb18_train/\"\n",
    "test_path = \"/content/gdrive/MyDrive/data/musdb18_test/\"\n",
    "\n",
    "import os\n",
    "\n",
    "train_dir= os.listdir(train_path)\n",
    "test_dir= os.listdir(test_path)"
   ]
  },
  {
   "cell_type": "code",
   "execution_count": null,
   "metadata": {
    "colab": {
     "base_uri": "https://localhost:8080/"
    },
    "id": "OaLLOWR4uSzG",
    "outputId": "324eef0e-3f6f-4388-b2f2-2cc50c80a08e"
   },
   "outputs": [
    {
     "data": {
      "text/plain": [
       "100"
      ]
     },
     "execution_count": 8,
     "metadata": {},
     "output_type": "execute_result"
    }
   ],
   "source": [
    "len(train_dir)"
   ]
  },
  {
   "cell_type": "code",
   "execution_count": null,
   "metadata": {
    "colab": {
     "base_uri": "https://localhost:8080/"
    },
    "id": "Vck06VFcWbfw",
    "outputId": "ae148926-eaa6-4cde-e55c-59ad7893aa01"
   },
   "outputs": [
    {
     "name": "stdout",
     "output_type": "stream",
     "text": [
      "1 /content/gdrive/MyDrive/data/musdb18_train/A Classic Education - NightOwl.stem.mp4/mix.wav\n",
      "1 /content/gdrive/MyDrive/data/musdb18_train/A Classic Education - NightOwl.stem.mp4/vocals.wav\n",
      "2 /content/gdrive/MyDrive/data/musdb18_train/ANiMAL - Clinic A.stem.mp4/mix.wav\n",
      "2 /content/gdrive/MyDrive/data/musdb18_train/ANiMAL - Clinic A.stem.mp4/vocals.wav\n",
      "3 /content/gdrive/MyDrive/data/musdb18_train/ANiMAL - Easy Tiger.stem.mp4/mix.wav\n",
      "3 /content/gdrive/MyDrive/data/musdb18_train/ANiMAL - Easy Tiger.stem.mp4/vocals.wav\n",
      "4 /content/gdrive/MyDrive/data/musdb18_train/ANiMAL - Rockshow.stem.mp4/mix.wav\n",
      "4 /content/gdrive/MyDrive/data/musdb18_train/ANiMAL - Rockshow.stem.mp4/vocals.wav\n",
      "5 /content/gdrive/MyDrive/data/musdb18_train/Actions - Devil's Words.stem.mp4/mix.wav\n",
      "5 /content/gdrive/MyDrive/data/musdb18_train/Actions - Devil's Words.stem.mp4/vocals.wav\n",
      "6 /content/gdrive/MyDrive/data/musdb18_train/Actions - One Minute Smile.stem.mp4/mix.wav\n",
      "6 /content/gdrive/MyDrive/data/musdb18_train/Actions - One Minute Smile.stem.mp4/vocals.wav\n",
      "7 /content/gdrive/MyDrive/data/musdb18_train/Actions - South Of The Water.stem.mp4/mix.wav\n",
      "7 /content/gdrive/MyDrive/data/musdb18_train/Actions - South Of The Water.stem.mp4/vocals.wav\n",
      "8 /content/gdrive/MyDrive/data/musdb18_train/Aimee Norwich - Child.stem.mp4/mix.wav\n",
      "8 /content/gdrive/MyDrive/data/musdb18_train/Aimee Norwich - Child.stem.mp4/vocals.wav\n",
      "9 /content/gdrive/MyDrive/data/musdb18_train/Alexander Ross - Goodbye Bolero.stem.mp4/mix.wav\n",
      "9 /content/gdrive/MyDrive/data/musdb18_train/Alexander Ross - Goodbye Bolero.stem.mp4/vocals.wav\n",
      "10 /content/gdrive/MyDrive/data/musdb18_train/Alexander Ross - Velvet Curtain.stem.mp4/mix.wav\n",
      "10 /content/gdrive/MyDrive/data/musdb18_train/Alexander Ross - Velvet Curtain.stem.mp4/vocals.wav\n",
      "11 /content/gdrive/MyDrive/data/musdb18_train/Angela Thomas Wade - Milk Cow Blues.stem.mp4/mix.wav\n",
      "11 /content/gdrive/MyDrive/data/musdb18_train/Angela Thomas Wade - Milk Cow Blues.stem.mp4/vocals.wav\n",
      "12 /content/gdrive/MyDrive/data/musdb18_train/Atlantis Bound - It Was My Fault For Waiting.stem.mp4/mix.wav\n",
      "12 /content/gdrive/MyDrive/data/musdb18_train/Atlantis Bound - It Was My Fault For Waiting.stem.mp4/vocals.wav\n",
      "13 /content/gdrive/MyDrive/data/musdb18_train/Auctioneer - Our Future Faces.stem.mp4/mix.wav\n",
      "13 /content/gdrive/MyDrive/data/musdb18_train/Auctioneer - Our Future Faces.stem.mp4/vocals.wav\n",
      "14 /content/gdrive/MyDrive/data/musdb18_train/AvaLuna - Waterduct.stem.mp4/mix.wav\n",
      "14 /content/gdrive/MyDrive/data/musdb18_train/AvaLuna - Waterduct.stem.mp4/vocals.wav\n",
      "15 /content/gdrive/MyDrive/data/musdb18_train/BigTroubles - Phantom.stem.mp4/mix.wav\n",
      "15 /content/gdrive/MyDrive/data/musdb18_train/BigTroubles - Phantom.stem.mp4/vocals.wav\n",
      "16 /content/gdrive/MyDrive/data/musdb18_train/Bill Chudziak - Children Of No-one.stem.mp4/mix.wav\n",
      "16 /content/gdrive/MyDrive/data/musdb18_train/Bill Chudziak - Children Of No-one.stem.mp4/vocals.wav\n",
      "17 /content/gdrive/MyDrive/data/musdb18_train/Black Bloc - If You Want Success.stem.mp4/mix.wav\n",
      "17 /content/gdrive/MyDrive/data/musdb18_train/Black Bloc - If You Want Success.stem.mp4/vocals.wav\n",
      "18 /content/gdrive/MyDrive/data/musdb18_train/Celestial Shore - Die For Us.stem.mp4/mix.wav\n",
      "18 /content/gdrive/MyDrive/data/musdb18_train/Celestial Shore - Die For Us.stem.mp4/vocals.wav\n",
      "19 /content/gdrive/MyDrive/data/musdb18_train/Chris Durban - Celebrate.stem.mp4/mix.wav\n",
      "19 /content/gdrive/MyDrive/data/musdb18_train/Chris Durban - Celebrate.stem.mp4/vocals.wav\n",
      "20 /content/gdrive/MyDrive/data/musdb18_train/Clara Berry And Wooldog - Air Traffic.stem.mp4/mix.wav\n",
      "20 /content/gdrive/MyDrive/data/musdb18_train/Clara Berry And Wooldog - Air Traffic.stem.mp4/vocals.wav\n",
      "21 /content/gdrive/MyDrive/data/musdb18_train/Clara Berry And Wooldog - Stella.stem.mp4/mix.wav\n",
      "21 /content/gdrive/MyDrive/data/musdb18_train/Clara Berry And Wooldog - Stella.stem.mp4/vocals.wav\n",
      "22 /content/gdrive/MyDrive/data/musdb18_train/Clara Berry And Wooldog - Waltz For My Victims.stem.mp4/mix.wav\n",
      "22 /content/gdrive/MyDrive/data/musdb18_train/Clara Berry And Wooldog - Waltz For My Victims.stem.mp4/vocals.wav\n",
      "23 /content/gdrive/MyDrive/data/musdb18_train/Cnoc An Tursa - Bannockburn.stem.mp4/mix.wav\n",
      "23 /content/gdrive/MyDrive/data/musdb18_train/Cnoc An Tursa - Bannockburn.stem.mp4/vocals.wav\n",
      "24 /content/gdrive/MyDrive/data/musdb18_train/Creepoid - OldTree.stem.mp4/mix.wav\n",
      "24 /content/gdrive/MyDrive/data/musdb18_train/Creepoid - OldTree.stem.mp4/vocals.wav\n",
      "25 /content/gdrive/MyDrive/data/musdb18_train/Dark Ride - Burning Bridges.stem.mp4/mix.wav\n",
      "25 /content/gdrive/MyDrive/data/musdb18_train/Dark Ride - Burning Bridges.stem.mp4/vocals.wav\n"
     ]
    }
   ],
   "source": [
    "mix_path = \"/mix.mp3\"\n",
    "vocal_path = \"/vocal.mp3\"\n",
    "\n",
    "categories = [\"bass\",\"drums\",\"mix\",\"other\",\"vocals\"]\n",
    "categories = [\"mix\",\"vocals\"]\n",
    "mix_stft_list = []\n",
    "vocals_stft_list = []\n",
    "h = 0\n",
    "for i in train_dir[:25]:\n",
    "    h += 1\n",
    "    for j in categories:\n",
    "    filename = train_path+i+\"/\"+j+\".wav\"\n",
    "    data,sr = librosa.load(filename)\n",
    "    dur = librosa.get_duration(data)\n",
    "    stamps = int(dur//8)\n",
    "    start = 0\n",
    "    eight = 8\n",
    "    print(h, filename)\n",
    "    for k in range(stamps):\n",
    "        \n",
    "        data,sr = librosa.load(filename,offset=start,duration=eight)\n",
    "        start+=8\n",
    "        X = librosa.stft(data)\n",
    "        # X = np.abs(X)\n",
    "    if j == \"mix\":\n",
    "        mix_stft_list.append(X)\n",
    "    else:\n",
    "        vocals_stft_list.append(X)\n",
    "# print(mix_stft_list)\n",
    "# print(vocals_stft_list)"
   ]
  },
  {
   "cell_type": "code",
   "execution_count": null,
   "metadata": {
    "colab": {
     "base_uri": "https://localhost:8080/"
    },
    "id": "z0N7IxJNXGeR",
    "outputId": "62e1c5ed-5136-4da1-9def-6febe658aa56"
   },
   "outputs": [
    {
     "data": {
      "text/plain": [
       "750"
      ]
     },
     "execution_count": 12,
     "metadata": {},
     "output_type": "execute_result"
    }
   ],
   "source": [
    "len(mix_stft_list)"
   ]
  },
  {
   "cell_type": "code",
   "execution_count": null,
   "metadata": {
    "id": "dRztEI2ja-fK"
   },
   "outputs": [],
   "source": [
    "mix_numpy = np.array(mix_stft_list)\n",
    "vocals_numpy = np.array(vocals_stft_list)"
   ]
  },
  {
   "cell_type": "code",
   "execution_count": null,
   "metadata": {
    "colab": {
     "base_uri": "https://localhost:8080/"
    },
    "id": "WASZHCo7bn4N",
    "outputId": "0688d663-9132-4a83-f2f5-1ec33ef00bb7"
   },
   "outputs": [
    {
     "name": "stdout",
     "output_type": "stream",
     "text": [
      "(750, 1025, 345)\n",
      "(750, 1025, 345)\n"
     ]
    }
   ],
   "source": [
    "print(mix_numpy.shape)\n",
    "print(vocals_numpy.shape)"
   ]
  },
  {
   "cell_type": "code",
   "execution_count": null,
   "metadata": {
    "id": "vVVZwQ_0bqDP"
   },
   "outputs": [],
   "source": [
    "with open('mix.npy', 'wb') as f:\n",
    "    np.save(f, mix_numpy)"
   ]
  },
  {
   "cell_type": "code",
   "execution_count": null,
   "metadata": {
    "id": "YEOpii9J6-Xd"
   },
   "outputs": [],
   "source": [
    "with open('vocals.npy', 'wb') as f:\n",
    "    np.save(f, vocals_numpy)"
   ]
  },
  {
   "cell_type": "code",
   "execution_count": null,
   "metadata": {
    "id": "5e1i2OQBD5aj"
   },
   "outputs": [],
   "source": [
    "with open('/content/gdrive/MyDrive/data/mix1.npy', 'wb') as f:\n",
    "    np.save(f, mix_numpy)\n",
    "with open('/content/gdrive/MyDrive/data/vocals1.npy', 'wb') as f:\n",
    "    np.save(f, vocals_numpy)"
   ]
  },
  {
   "cell_type": "code",
   "execution_count": null,
   "metadata": {
    "id": "UN1mPnjoGsv9"
   },
   "outputs": [],
   "source": []
  }
 ],
 "metadata": {
  "accelerator": "GPU",
  "colab": {
   "collapsed_sections": [],
   "name": "audio source preprocess.ipynb",
   "provenance": []
  },
  "kernelspec": {
   "display_name": "Python 3 (ipykernel)",
   "language": "python",
   "name": "python3"
  },
  "language_info": {
   "codemirror_mode": {
    "name": "ipython",
    "version": 3
   },
   "file_extension": ".py",
   "mimetype": "text/x-python",
   "name": "python",
   "nbconvert_exporter": "python",
   "pygments_lexer": "ipython3",
   "version": "3.8.13"
  }
 },
 "nbformat": 4,
 "nbformat_minor": 1
}
