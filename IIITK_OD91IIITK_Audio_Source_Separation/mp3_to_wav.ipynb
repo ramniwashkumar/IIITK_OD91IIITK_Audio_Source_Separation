{
 "cells": [
  {
   "cell_type": "markdown",
   "metadata": {
    "id": "Slp3FsFGqyzg"
   },
   "source": [
    "### This notebook creates .wav files from .mp3 files for librosa to process audio."
   ]
  },
  {
   "cell_type": "code",
   "execution_count": null,
   "metadata": {
    "id": "k8nTvsY6-QjG"
   },
   "outputs": [],
   "source": [
    "import numpy as np\n",
    "import pandas as pd\n",
    "import matplotlib.pyplot as plt"
   ]
  },
  {
   "cell_type": "code",
   "execution_count": null,
   "metadata": {
    "colab": {
     "base_uri": "https://localhost:8080/"
    },
    "id": "NcFCNinvJlMN",
    "outputId": "a646a9a6-24d6-416d-b550-48bbcf0c4e78"
   },
   "outputs": [
    {
     "name": "stdout",
     "output_type": "stream",
     "text": [
      "Drive already mounted at /content/gdrive; to attempt to forcibly remount, call drive.mount(\"/content/gdrive\", force_remount=True).\n"
     ]
    }
   ],
   "source": [
    "from google.colab import drive\n",
    "drive.mount(\"/content/gdrive\")"
   ]
  },
  {
   "cell_type": "code",
   "execution_count": null,
   "metadata": {
    "colab": {
     "base_uri": "https://localhost:8080/"
    },
    "id": "pQ0H7t3oJ1w6",
    "outputId": "bef649e3-2f0b-4594-b1db-4a7e77af504f"
   },
   "outputs": [
    {
     "data": {
      "text/plain": [
       "['.config', 'gdrive', '.ipynb_checkpoints', 'sample_data']"
      ]
     },
     "execution_count": 3,
     "metadata": {},
     "output_type": "execute_result"
    }
   ],
   "source": [
    "import os\n",
    "os.listdir()"
   ]
  },
  {
   "cell_type": "code",
   "execution_count": null,
   "metadata": {
    "id": "OoagY9HGKQZI"
   },
   "outputs": [],
   "source": [
    "train_path = \"/content/gdrive/MyDrive/data/musdb18_train\"\n",
    "test_path = \"/content/gdrive/MyDrive/data/musdb18_test\"\n",
    "\n",
    "import os\n",
    "\n",
    "train_dir= os.listdir(train_path)\n",
    "test_dir= os.listdir(test_path)"
   ]
  },
  {
   "cell_type": "code",
   "execution_count": null,
   "metadata": {
    "colab": {
     "base_uri": "https://localhost:8080/"
    },
    "id": "GdN2zZSEKVDJ",
    "outputId": "5a97b244-e7b3-4c57-8cb6-aeb7a723b2e4"
   },
   "outputs": [
    {
     "name": "stdout",
     "output_type": "stream",
     "text": [
      "Requirement already satisfied: pydub in /usr/local/lib/python3.7/dist-packages (0.25.1)\n"
     ]
    }
   ],
   "source": [
    "!pip install pydub"
   ]
  },
  {
   "cell_type": "code",
   "execution_count": null,
   "metadata": {
    "id": "dcdQ5HcuKXqH"
   },
   "outputs": [],
   "source": [
    "train_path = \"/content/gdrive/MyDrive/data/musdb18_train/\"\n",
    "test_path = \"/content/gdrive/MyDrive/data/musdb18_test/\"\n",
    "\n",
    "import os\n",
    "\n",
    "train_dir= os.listdir(train_path)\n",
    "test_dir= os.listdir(test_path)"
   ]
  },
  {
   "cell_type": "code",
   "execution_count": null,
   "metadata": {
    "id": "UUEegVUaOTKq"
   },
   "outputs": [],
   "source": [
    "mix_path = \"/mix.mp3\"\n",
    "vocal_path = \"/vocal.mp3\"\n",
    "\n",
    "categories = [\"bass\",\"drums\",\"mix\",\"other\",\"vocals\"]\n",
    "\n",
    "for i in train_dir[1:]:\n",
    "    for j in categories:\n",
    "    mp3_path = train_path+i+\"/\"+j+\".mp3\"\n",
    "    wav_path = train_path+\"/\"+i+\"/\"+j+\".wav\"\n",
    "    # convert mp3 file to wav file\n",
    "    sound = AudioSegment.from_mp3(mp3_path)\n",
    "    sound.export(wav_path, format=\"wav\")\n",
    "    os.remove(mp3_path)\n"
   ]
  },
  {
   "cell_type": "code",
   "execution_count": null,
   "metadata": {
    "id": "IxoINWUdOVm6"
   },
   "outputs": [],
   "source": [
    "mix_path = \"/mix.mp3\"\n",
    "vocal_path = \"/vocal.mp3\"\n",
    "\n",
    "categories = [\"bass\",\"drums\",\"mix\",\"other\",\"vocals\"]\n",
    "\n",
    "for i in test_dir:\n",
    "    for j in categories:\n",
    "    mp3_path = test_path+i+\"/\"+j+\".mp3\"\n",
    "    wav_path = train_path+\"/\"+i+\"/\"+j+\".wav\"\n",
    "    # convert mp3 file to wav file\n",
    "    sound = AudioSegment.from_mp3(mp3_path)\n",
    "    sound.export(wav_path, format=\"wav\")\n",
    "        os.remove(mp3_path)"
   ]
  },
  {
   "cell_type": "code",
   "execution_count": null,
   "metadata": {
    "id": "UN1mPnjoGsv9"
   },
   "outputs": [],
   "source": []
  }
 ],
 "metadata": {
  "accelerator": "GPU",
  "colab": {
   "collapsed_sections": [],
   "name": "mp3_to_wav.ipynb",
   "provenance": []
  },
  "kernelspec": {
   "display_name": "Python 3 (ipykernel)",
   "language": "python",
   "name": "python3"
  },
  "language_info": {
   "codemirror_mode": {
    "name": "ipython",
    "version": 3
   },
   "file_extension": ".py",
   "mimetype": "text/x-python",
   "name": "python",
   "nbconvert_exporter": "python",
   "pygments_lexer": "ipython3",
   "version": "3.8.12"
  }
 },
 "nbformat": 4,
 "nbformat_minor": 1
}
